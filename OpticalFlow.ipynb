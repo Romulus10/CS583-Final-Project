{
 "cells": [
  {
   "cell_type": "markdown",
   "metadata": {},
   "source": [
    "# Optical Flow with Convolution Neural Networks"
   ]
  },
  {
   "cell_type": "markdown",
   "metadata": {},
   "source": [
    "The paper's version of optical flow produces a vector <-x, +x, -y, +y, -z, +z>.\n",
    "Our result vector needs to change in track_object(frame1, frame2, x, y, w, h, steps) - currently the displacement should be `[x,y]`, so we'll just need to do some conditional wizardry and expand it out."
   ]
  },
  {
   "cell_type": "code",
   "execution_count": 1,
   "metadata": {},
   "outputs": [
    {
     "output_type": "execute_result",
     "data": {
      "text/plain": "array([2, 0, 0, 3, 0, 0])"
     },
     "metadata": {},
     "execution_count": 1
    }
   ],
   "source": [
    "import numpy as np\n",
    "flow = np.array([-2,3])\n",
    "final_flow = np.array([0, 0, 0, 0, 0, 0])\n",
    "\n",
    "if flow[0] < 0:\n",
    "    final_flow[0] = abs(flow[0])\n",
    "elif flow[0] > 0:\n",
    "    final_flow[1] = abs(flow[0])\n",
    "\n",
    "if flow[1] < 0:\n",
    "    final_flow[2] = abs(flow[1])\n",
    "elif flow[1] > 0:\n",
    "    final_flow[3] = abs(flow[1])\n",
    "final_flow"
   ]
  },
  {
   "cell_type": "markdown",
   "metadata": {},
   "source": [
    "The video used is releaseed under the Creative Commons Attribution 3.0 license.\n",
    "We can generate the list of all files in the training directory as follows:"
   ]
  },
  {
   "cell_type": "code",
   "execution_count": 2,
   "metadata": {},
   "outputs": [],
   "source": [
    "import os\n",
    "file_list = os.listdir(\"training\")"
   ]
  },
  {
   "cell_type": "markdown",
   "metadata": {},
   "source": [
    "We'll need to add the directory name to the beginning of each file:"
   ]
  },
  {
   "cell_type": "code",
   "execution_count": 3,
   "metadata": {},
   "outputs": [],
   "source": [
    "for x in range(len(file_list)):\n",
    "    file_list[x] = 'training/' + file_list[x]"
   ]
  },
  {
   "cell_type": "markdown",
   "metadata": {},
   "source": [
    "Preparing the dataset will use the `prepare_dataset` function in the `optical_flow.py` file. The signature for this function is:\n",
    "`prepare_dataset(files_list, result_file, x, y, w, h, steps=5)`\n",
    "The bounding box should be determined for the scene, and consists of the x,y,w,h parameters."
   ]
  },
  {
   "cell_type": "code",
   "execution_count": 4,
   "metadata": {},
   "outputs": [],
   "source": [
    "from optical_flow import prepare_dataset\n",
    "prepare_dataset(file_list, \"train-data.csv\", 124, 158, 254, 233, steps=5)"
   ]
  },
  {
   "cell_type": "markdown",
   "metadata": {},
   "source": [
    "To train the neural net, we'll use the Lkvf file."
   ]
  },
  {
   "cell_type": "code",
   "execution_count": 5,
   "metadata": {},
   "outputs": [
    {
     "output_type": "stream",
     "name": "stderr",
     "text": "Using TensorFlow backend.\nEpoch 1/100\n149/149 [==============================] - 0s 1ms/step - loss: 0.6965 - accuracy: 0.3870\nEpoch 2/100\n149/149 [==============================] - 0s 489us/step - loss: 0.6881 - accuracy: 0.6577\nEpoch 3/100\n149/149 [==============================] - 0s 436us/step - loss: 0.6829 - accuracy: 0.8121\nEpoch 4/100\n149/149 [==============================] - 0s 445us/step - loss: 0.6776 - accuracy: 0.9038\nEpoch 5/100\n149/149 [==============================] - 0s 482us/step - loss: 0.6739 - accuracy: 0.9452\nEpoch 6/100\n149/149 [==============================] - 0s 424us/step - loss: 0.6704 - accuracy: 0.9687\nEpoch 7/100\n149/149 [==============================] - 0s 510us/step - loss: 0.6672 - accuracy: 0.9799\nEpoch 8/100\n149/149 [==============================] - 0s 548us/step - loss: 0.6623 - accuracy: 0.9899\nEpoch 9/100\n149/149 [==============================] - 0s 504us/step - loss: 0.6592 - accuracy: 0.9933\nEpoch 10/100\n149/149 [==============================] - 0s 558us/step - loss: 0.6570 - accuracy: 0.9877\nEpoch 11/100\n149/149 [==============================] - 0s 586us/step - loss: 0.6532 - accuracy: 0.9888\nEpoch 12/100\n149/149 [==============================] - 0s 515us/step - loss: 0.6492 - accuracy: 0.9843\nEpoch 13/100\n149/149 [==============================] - 0s 480us/step - loss: 0.6426 - accuracy: 0.9888\nEpoch 14/100\n149/149 [==============================] - 0s 470us/step - loss: 0.6407 - accuracy: 0.9966\nEpoch 15/100\n149/149 [==============================] - 0s 511us/step - loss: 0.6345 - accuracy: 0.9911\nEpoch 16/100\n149/149 [==============================] - 0s 440us/step - loss: 0.6315 - accuracy: 0.9922\nEpoch 17/100\n149/149 [==============================] - 0s 428us/step - loss: 0.6249 - accuracy: 0.9933\nEpoch 18/100\n149/149 [==============================] - 0s 534us/step - loss: 0.6203 - accuracy: 0.9966\nEpoch 19/100\n149/149 [==============================] - 0s 520us/step - loss: 0.6196 - accuracy: 0.9922\nEpoch 20/100\n149/149 [==============================] - 0s 531us/step - loss: 0.6160 - accuracy: 0.9966\nEpoch 21/100\n149/149 [==============================] - 0s 465us/step - loss: 0.6076 - accuracy: 0.9955\nEpoch 22/100\n149/149 [==============================] - 0s 411us/step - loss: 0.6053 - accuracy: 0.9966\nEpoch 23/100\n149/149 [==============================] - 0s 474us/step - loss: 0.5982 - accuracy: 0.9899\nEpoch 24/100\n149/149 [==============================] - 0s 431us/step - loss: 0.5968 - accuracy: 0.9933\nEpoch 25/100\n149/149 [==============================] - 0s 553us/step - loss: 0.5912 - accuracy: 0.9899\nEpoch 26/100\n149/149 [==============================] - 0s 505us/step - loss: 0.5882 - accuracy: 0.9922\nEpoch 27/100\n149/149 [==============================] - 0s 468us/step - loss: 0.5846 - accuracy: 0.9888\nEpoch 28/100\n149/149 [==============================] - 0s 470us/step - loss: 0.5780 - accuracy: 0.9944\nEpoch 29/100\n149/149 [==============================] - 0s 425us/step - loss: 0.5689 - accuracy: 0.9933\nEpoch 30/100\n149/149 [==============================] - 0s 419us/step - loss: 0.5652 - accuracy: 0.9888\nEpoch 31/100\n149/149 [==============================] - 0s 453us/step - loss: 0.5615 - accuracy: 0.9855\nEpoch 32/100\n149/149 [==============================] - 0s 466us/step - loss: 0.5509 - accuracy: 0.9899\nEpoch 33/100\n149/149 [==============================] - 0s 413us/step - loss: 0.5512 - accuracy: 0.9866\nEpoch 34/100\n149/149 [==============================] - 0s 437us/step - loss: 0.5421 - accuracy: 0.9765\nEpoch 35/100\n149/149 [==============================] - 0s 397us/step - loss: 0.5356 - accuracy: 0.9866\nEpoch 36/100\n149/149 [==============================] - 0s 425us/step - loss: 0.5226 - accuracy: 0.9888\nEpoch 37/100\n149/149 [==============================] - 0s 452us/step - loss: 0.5177 - accuracy: 0.9799\nEpoch 38/100\n149/149 [==============================] - 0s 488us/step - loss: 0.5096 - accuracy: 0.9832\nEpoch 39/100\n149/149 [==============================] - 0s 600us/step - loss: 0.5046 - accuracy: 0.9832\nEpoch 40/100\n149/149 [==============================] - 0s 564us/step - loss: 0.4938 - accuracy: 0.9776\nEpoch 41/100\n149/149 [==============================] - 0s 546us/step - loss: 0.4826 - accuracy: 0.9698\nEpoch 42/100\n149/149 [==============================] - 0s 467us/step - loss: 0.4793 - accuracy: 0.9810\nEpoch 43/100\n149/149 [==============================] - 0s 497us/step - loss: 0.4718 - accuracy: 0.9709\nEpoch 44/100\n149/149 [==============================] - 0s 475us/step - loss: 0.4604 - accuracy: 0.9687\nEpoch 45/100\n149/149 [==============================] - 0s 554us/step - loss: 0.4390 - accuracy: 0.9709\nEpoch 46/100\n149/149 [==============================] - 0s 567us/step - loss: 0.4292 - accuracy: 0.9664\nEpoch 47/100\n149/149 [==============================] - 0s 512us/step - loss: 0.4315 - accuracy: 0.9653\nEpoch 48/100\n149/149 [==============================] - 0s 450us/step - loss: 0.3978 - accuracy: 0.9698\nEpoch 49/100\n149/149 [==============================] - 0s 403us/step - loss: 0.3872 - accuracy: 0.9575\nEpoch 50/100\n149/149 [==============================] - 0s 418us/step - loss: 0.3451 - accuracy: 0.9732\nEpoch 51/100\n149/149 [==============================] - 0s 486us/step - loss: 0.3689 - accuracy: 0.9463\nEpoch 52/100\n149/149 [==============================] - 0s 523us/step - loss: 0.3346 - accuracy: 0.9709\nEpoch 53/100\n149/149 [==============================] - 0s 489us/step - loss: 0.3465 - accuracy: 0.9508\nEpoch 54/100\n149/149 [==============================] - 0s 430us/step - loss: 0.3061 - accuracy: 0.9653\nEpoch 55/100\n149/149 [==============================] - 0s 449us/step - loss: 0.2871 - accuracy: 0.9653\nEpoch 56/100\n149/149 [==============================] - 0s 479us/step - loss: 0.2735 - accuracy: 0.9564\nEpoch 57/100\n149/149 [==============================] - 0s 440us/step - loss: 0.2685 - accuracy: 0.9530\nEpoch 58/100\n149/149 [==============================] - 0s 407us/step - loss: 0.2339 - accuracy: 0.9653\nEpoch 59/100\n149/149 [==============================] - 0s 590us/step - loss: 0.2349 - accuracy: 0.9609\nEpoch 60/100\n149/149 [==============================] - 0s 444us/step - loss: 0.2166 - accuracy: 0.9698\nEpoch 61/100\n149/149 [==============================] - 0s 433us/step - loss: 0.1945 - accuracy: 0.9698\nEpoch 62/100\n149/149 [==============================] - 0s 452us/step - loss: 0.2142 - accuracy: 0.9597\nEpoch 63/100\n149/149 [==============================] - 0s 406us/step - loss: 0.1842 - accuracy: 0.9631\nEpoch 64/100\n149/149 [==============================] - 0s 416us/step - loss: 0.1690 - accuracy: 0.9698\nEpoch 65/100\n149/149 [==============================] - 0s 569us/step - loss: 0.1751 - accuracy: 0.9564\nEpoch 66/100\n149/149 [==============================] - 0s 523us/step - loss: 0.1526 - accuracy: 0.9664\nEpoch 67/100\n149/149 [==============================] - 0s 478us/step - loss: 0.1340 - accuracy: 0.9732\nEpoch 68/100\n149/149 [==============================] - 0s 430us/step - loss: 0.1498 - accuracy: 0.9642\nEpoch 69/100\n149/149 [==============================] - 0s 473us/step - loss: 0.1377 - accuracy: 0.9676\nEpoch 70/100\n149/149 [==============================] - 0s 566us/step - loss: 0.1405 - accuracy: 0.9653\nEpoch 71/100\n149/149 [==============================] - 0s 605us/step - loss: 0.1191 - accuracy: 0.9709\nEpoch 72/100\n149/149 [==============================] - 0s 633us/step - loss: 0.1297 - accuracy: 0.9720\nEpoch 73/100\n149/149 [==============================] - 0s 574us/step - loss: 0.1243 - accuracy: 0.9586\nEpoch 74/100\n149/149 [==============================] - 0s 528us/step - loss: 0.1003 - accuracy: 0.9765\nEpoch 75/100\n149/149 [==============================] - 0s 553us/step - loss: 0.1007 - accuracy: 0.9765\nEpoch 76/100\n149/149 [==============================] - 0s 477us/step - loss: 0.0952 - accuracy: 0.9799\nEpoch 77/100\n149/149 [==============================] - 0s 527us/step - loss: 0.1086 - accuracy: 0.9720\nEpoch 78/100\n149/149 [==============================] - 0s 602us/step - loss: 0.1141 - accuracy: 0.9620\nEpoch 79/100\n149/149 [==============================] - 0s 502us/step - loss: 0.0844 - accuracy: 0.9776\nEpoch 80/100\n149/149 [==============================] - 0s 501us/step - loss: 0.0970 - accuracy: 0.9743\nEpoch 81/100\n149/149 [==============================] - 0s 466us/step - loss: 0.0990 - accuracy: 0.9754\nEpoch 82/100\n149/149 [==============================] - 0s 444us/step - loss: 0.0837 - accuracy: 0.9743\nEpoch 83/100\n149/149 [==============================] - 0s 462us/step - loss: 0.0899 - accuracy: 0.9743\nEpoch 84/100\n149/149 [==============================] - 0s 456us/step - loss: 0.0856 - accuracy: 0.9765\nEpoch 85/100\n149/149 [==============================] - 0s 497us/step - loss: 0.0835 - accuracy: 0.9743\nEpoch 86/100\n149/149 [==============================] - 0s 441us/step - loss: 0.0697 - accuracy: 0.9765\nEpoch 87/100\n149/149 [==============================] - 0s 456us/step - loss: 0.0958 - accuracy: 0.9664\nEpoch 88/100\n149/149 [==============================] - 0s 446us/step - loss: 0.0582 - accuracy: 0.9787\nEpoch 89/100\n149/149 [==============================] - 0s 426us/step - loss: 0.0666 - accuracy: 0.9776\nEpoch 90/100\n149/149 [==============================] - 0s 484us/step - loss: 0.0664 - accuracy: 0.9787\nEpoch 91/100\n149/149 [==============================] - 0s 515us/step - loss: 0.0677 - accuracy: 0.9787\nEpoch 92/100\n149/149 [==============================] - 0s 612us/step - loss: 0.0669 - accuracy: 0.9765\nEpoch 93/100\n149/149 [==============================] - 0s 541us/step - loss: 0.0501 - accuracy: 0.9843\nEpoch 94/100\n149/149 [==============================] - 0s 529us/step - loss: 0.0613 - accuracy: 0.9799\nEpoch 95/100\n149/149 [==============================] - 0s 432us/step - loss: 0.0492 - accuracy: 0.9810\nEpoch 96/100\n149/149 [==============================] - 0s 477us/step - loss: 0.0503 - accuracy: 0.9832\nEpoch 97/100\n149/149 [==============================] - 0s 449us/step - loss: 0.0617 - accuracy: 0.9776\nEpoch 98/100\n149/149 [==============================] - 0s 452us/step - loss: 0.0541 - accuracy: 0.9899\nEpoch 99/100\n149/149 [==============================] - 0s 493us/step - loss: 0.0645 - accuracy: 0.9754\nEpoch 100/100\n149/149 [==============================] - 0s 458us/step - loss: 0.0453 - accuracy: 0.9877\n149/149 [==============================] - 0s 456us/step\n50/50 [==============================] - 0s 225us/step\n"
    }
   ],
   "source": [
    "from Lkvf import train\n",
    "train()"
   ]
  },
  {
   "cell_type": "markdown",
   "metadata": {},
   "source": [
    "Once we're trained up, we can test the neural network on arbitary video capture."
   ]
  }
 ],
 "metadata": {
  "kernelspec": {
   "display_name": "Python 3.8.2 64-bit ('venv': venv)",
   "language": "python",
   "name": "python38264bitvenvvenvc82e9798d95b4c888e5c612e2917b4ed"
  },
  "language_info": {
   "codemirror_mode": {
    "name": "ipython",
    "version": 3
   },
   "file_extension": ".py",
   "mimetype": "text/x-python",
   "name": "python",
   "nbconvert_exporter": "python",
   "pygments_lexer": "ipython3",
   "version": "3.8.2-final"
  }
 },
 "nbformat": 4,
 "nbformat_minor": 4
}