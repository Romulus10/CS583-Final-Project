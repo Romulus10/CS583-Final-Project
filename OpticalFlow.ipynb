{
 "cells": [
  {
   "cell_type": "markdown",
   "metadata": {},
   "source": [
    "# Optical Flow with Convolution Neural Networks"
   ]
  },
  {
   "cell_type": "markdown",
   "metadata": {},
   "source": [
    "The paper's version of optical flow produces a vector <-x, +x, -y, +y, -z, +z>.\n",
    "Our result vector needs to change in track_object(frame1, frame2, boundingBox, steps) - currently the displacement should be [x,y], so we'll just need to do some conditional wizardry and expand it out."
   ]
  },
  {
   "cell_type": "code",
   "execution_count": 5,
   "metadata": {},
   "outputs": [
    {
     "output_type": "execute_result",
     "data": {
      "text/plain": "array([2, 0, 0, 3, 0, 0])"
     },
     "metadata": {},
     "execution_count": 5
    }
   ],
   "source": [
    "import numpy as np\n",
    "flow = np.array([-2,3])\n",
    "final_flow = np.array([0, 0, 0, 0, 0, 0])\n",
    "\n",
    "if flow[0] < 0:\n",
    "    final_flow[0] = abs(flow[0])\n",
    "elif flow[0] > 0:\n",
    "    final_flow[1] = abs(flow[0])\n",
    "\n",
    "if flow[1] < 0:\n",
    "    final_flow[2] = abs(flow[1])\n",
    "elif flow[1] > 0:\n",
    "    final_flow[3] = abs(flow[1])\n",
    "final_flow"
   ]
  },
  {
   "cell_type": "markdown",
   "metadata": {},
   "source": [
    "We can generate the list of all files in the training directory as follows:"
   ]
  },
  {
   "cell_type": "code",
   "execution_count": null,
   "metadata": {},
   "outputs": [],
   "source": [
    "import os\n",
    "file_list = os.listdir(\"training\")"
   ]
  },
  {
   "cell_type": "markdown",
   "metadata": {},
   "source": [
    "We'lll need to add the directory name to the beginning of each file:"
   ]
  },
  {
   "cell_type": "code",
   "execution_count": 12,
   "metadata": {},
   "outputs": [
    {
     "output_type": "execute_result",
     "data": {
      "text/plain": "[]"
     },
     "metadata": {},
     "execution_count": 12
    }
   ],
   "source": [
    "for x in range(len(file_list)):\n",
    "    file_list[x] = 'training/' + file_list[x]\n",
    "file_list"
   ]
  },
  {
   "cell_type": "markdown",
   "metadata": {},
   "source": [
    "Preparing the dataset will use the `prepare_dataset` function in the `optical_flow.py` file. The signature for this function is:\n",
    "`prepare_dataset(files_list, result_file, boundingBox='304,329,106,58', steps=5)`\n",
    "The bounding box should be determined for the scene, and is a string in the form `x, y, w, h`"
   ]
  },
  {
   "cell_type": "code",
   "execution_count": 9,
   "metadata": {},
   "outputs": [],
   "source": [
    "from optical_flow import prepare_dataset\n",
    "prepare_dataset(file_list, \"train-data.csv\", boundingBox=, steps=5)"
   ]
  },
  {
   "cell_type": "code",
   "execution_count": null,
   "metadata": {},
   "outputs": [],
   "source": []
  }
 ],
 "metadata": {
  "kernelspec": {
   "display_name": "Python 3",
   "language": "python",
   "name": "python3"
  },
  "language_info": {
   "codemirror_mode": {
    "name": "ipython",
    "version": 3
   },
   "file_extension": ".py",
   "mimetype": "text/x-python",
   "name": "python",
   "nbconvert_exporter": "python",
   "pygments_lexer": "ipython3",
   "version": "3.8.2-final"
  }
 },
 "nbformat": 4,
 "nbformat_minor": 4
}